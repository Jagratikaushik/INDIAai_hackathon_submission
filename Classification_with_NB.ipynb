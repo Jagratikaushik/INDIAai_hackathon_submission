{
  "nbformat": 4,
  "nbformat_minor": 0,
  "metadata": {
    "colab": {
      "provenance": [],
      "gpuType": "T4"
    },
    "kernelspec": {
      "name": "python3",
      "display_name": "Python 3"
    },
    "language_info": {
      "name": "python"
    },
    "accelerator": "GPU"
  },
  "cells": [
    {
      "cell_type": "code",
      "execution_count": null,
      "metadata": {
        "colab": {
          "base_uri": "https://localhost:8080/"
        },
        "id": "iidRBsiGiLma",
        "outputId": "ea349fea-b677-49d3-f44a-a086fbb97993"
      },
      "outputs": [
        {
          "output_type": "stream",
          "name": "stdout",
          "text": [
            "Mounted at /content/drive\n"
          ]
        }
      ],
      "source": [
        "from google.colab import drive\n",
        "drive.mount('/content/drive')\n",
        "import pandas as pd\n",
        "\n",
        "# Paths to your datasets\n",
        "train_path = '/content/drive/My Drive/train.csv'\n",
        "test_path = '/content/drive/My Drive/test.csv'\n",
        "\n",
        "\n"
      ]
    },
    {
      "cell_type": "code",
      "source": [
        "# Import essential libraries\n",
        "import pandas as pd\n",
        "import numpy as np\n",
        "import re\n",
        "import nltk\n",
        "from sklearn.model_selection import train_test_split\n",
        "from sklearn.metrics import accuracy_score, classification_report, precision_score, recall_score, f1_score\n",
        "from sklearn.feature_extraction.text import TfidfVectorizer\n",
        "from sklearn.multioutput import MultiOutputClassifier\n",
        "from sklearn.naive_bayes import MultinomialNB\n",
        "from sklearn.svm import SVC\n"
      ],
      "metadata": {
        "id": "xo4R0EBEnZyJ"
      },
      "execution_count": null,
      "outputs": []
    },
    {
      "cell_type": "code",
      "source": [
        "# Load datasets\n",
        "train_df = pd.read_csv(train_path)\n",
        "test_df = pd.read_csv(test_path)\n",
        "\n",
        "# Inspect data\n",
        "print(train_df.head())\n",
        "print(test_df.head())\n"
      ],
      "metadata": {
        "colab": {
          "base_uri": "https://localhost:8080/"
        },
        "id": "A4kTxqT2ncLu",
        "outputId": "2cd3ba97-16a0-4009-e6b8-f18464661382"
      },
      "execution_count": null,
      "outputs": [
        {
          "output_type": "stream",
          "name": "stdout",
          "text": [
            "                                category                       sub_category  \\\n",
            "0  Online and Social Media Related Crime  Cyber Bullying  Stalking  Sexting   \n",
            "1                 Online Financial Fraud                  Fraud CallVishing   \n",
            "2               Online Gambling  Betting           Online Gambling  Betting   \n",
            "3  Online and Social Media Related Crime                   Online Job Fraud   \n",
            "4                 Online Financial Fraud                  Fraud CallVishing   \n",
            "\n",
            "                                  crimeaditionalinfo  \n",
            "0  I had continue received random calls and abusi...  \n",
            "1  The above fraudster is continuously messaging ...  \n",
            "2  He is acting like a police and demanding for m...  \n",
            "3  In apna Job I have applied for job interview f...  \n",
            "4  I received a call from lady stating that she w...  \n",
            "                                    category  \\\n",
            "0  RapeGang Rape RGRSexually Abusive Content   \n",
            "1                     Online Financial Fraud   \n",
            "2             Cyber Attack/ Dependent Crimes   \n",
            "3                     Online Financial Fraud   \n",
            "4                      Any Other Cyber Crime   \n",
            "\n",
            "                           sub_category  \\\n",
            "0                                   NaN   \n",
            "1  DebitCredit Card FraudSim Swap Fraud   \n",
            "2                         SQL Injection   \n",
            "3                     Fraud CallVishing   \n",
            "4                                 Other   \n",
            "\n",
            "                                  crimeaditionalinfo  \n",
            "0  Sir namaskar  mein Ranjit Kumar PatraPaise neh...  \n",
            "1          KOTAK MAHINDRA BANK FRAUD\\r\\nFRAUD AMOUNT  \n",
            "2  The issue actually started when I got this ema...  \n",
            "3  I am amit kumar from karwi chitrakoot I am tot...  \n",
            "4  I have ordered  saree and  blouse from rinki s...  \n"
          ]
        }
      ]
    },
    {
      "cell_type": "code",
      "source": [
        "import re\n",
        "from nltk.corpus import stopwords\n",
        "from nltk.tokenize import word_tokenize\n",
        "from nltk.stem import WordNetLemmatizer\n",
        "\n",
        "# Download necessary NLTK data\n",
        "import nltk\n",
        "nltk.download('stopwords')\n",
        "nltk.download('punkt')\n",
        "nltk.download('wordnet')\n",
        "\n",
        "# Initialize lemmatizer and stop words\n",
        "stop_words = set(stopwords.words('english'))\n",
        "lemmatizer = WordNetLemmatizer()\n",
        "\n",
        "# Function for preprocessing\n",
        "def preprocess_text(text):\n",
        "    # Check if the text is a string; if not, convert it to an empty string\n",
        "    text = str(text) if isinstance(text, str) else \"\"\n",
        "    # Remove special characters and numbers\n",
        "    text = re.sub(r'[^a-zA-Z\\s]', '', text)\n",
        "    # Tokenize and remove stop words\n",
        "    tokens = word_tokenize(text.lower())\n",
        "    tokens = [word for word in tokens if word not in stop_words]\n",
        "    # Lemmatize words\n",
        "    tokens = [lemmatizer.lemmatize(word) for word in tokens]\n",
        "    return ' '.join(tokens)\n",
        "\n",
        "# Apply preprocessing to 'crimeaditionalinfo' in both train and test datasets\n",
        "train_df['cleaned_text'] = train_df['crimeaditionalinfo'].apply(preprocess_text)\n",
        "test_df['cleaned_text'] = test_df['crimeaditionalinfo'].apply(preprocess_text)"
      ],
      "metadata": {
        "colab": {
          "base_uri": "https://localhost:8080/"
        },
        "id": "9wclx45onzKB",
        "outputId": "71bb2261-e288-428d-cc53-bf3bd804b502"
      },
      "execution_count": null,
      "outputs": [
        {
          "output_type": "stream",
          "name": "stderr",
          "text": [
            "[nltk_data] Downloading package stopwords to /root/nltk_data...\n",
            "[nltk_data]   Unzipping corpora/stopwords.zip.\n",
            "[nltk_data] Downloading package punkt to /root/nltk_data...\n",
            "[nltk_data]   Unzipping tokenizers/punkt.zip.\n",
            "[nltk_data] Downloading package wordnet to /root/nltk_data...\n"
          ]
        }
      ]
    },
    {
      "cell_type": "code",
      "source": [
        "# Initialize TF-IDF Vectorizer\n",
        "tfidf = TfidfVectorizer(max_features=5000)\n",
        "X_train = tfidf.fit_transform(train_df['cleaned_text']).toarray()\n",
        "X_test = tfidf.transform(test_df['cleaned_text']).toarray()\n",
        "\n",
        "# Separate target labels for both category and sub_category\n",
        "y_train = train_df[['category', 'sub_category']]\n",
        "y_test = test_df[['category', 'sub_category']]\n"
      ],
      "metadata": {
        "id": "jrgymitnxdc0"
      },
      "execution_count": null,
      "outputs": []
    },
    {
      "cell_type": "code",
      "source": [
        "import pandas as pd\n",
        "import numpy as np\n",
        "from sklearn.metrics import accuracy_score, precision_score, recall_score, f1_score, classification_report\n",
        "from sklearn.multioutput import MultiOutputClassifier\n",
        "from sklearn.naive_bayes import MultinomialNB\n",
        "\n",
        "# Convert to DataFrames to handle NaN values\n",
        "X_train = pd.DataFrame(X_train)\n",
        "y_train = pd.DataFrame(y_train, columns=['category', 'sub_category'])\n",
        "X_test = pd.DataFrame(X_test)\n",
        "y_test = pd.DataFrame(y_test, columns=['category', 'sub_category'])\n",
        "\n",
        "# Fill NaN values\n",
        "X_train = X_train.fillna('')  # Replace NaNs with an empty string for text data\n",
        "y_train = y_train.fillna(y_train.mode().iloc[0])  # Replace NaNs in y_train with the mode value\n",
        "X_test = X_test.fillna('')\n",
        "y_test = y_test.fillna(y_test.mode().iloc[0])\n",
        "\n",
        "# Convert back to arrays for model compatibility\n",
        "X_train = X_train.values\n",
        "y_train = y_train.values\n",
        "X_test = X_test.values\n",
        "y_test = y_test.values\n",
        "\n",
        "# Initialize and train the MultiOutputClassifier with Naive Bayes\n",
        "nb_model = MultiOutputClassifier(MultinomialNB())\n",
        "nb_model.fit(X_train, y_train)\n",
        "\n",
        "# Predict on the test set\n",
        "y_pred_nb = nb_model.predict(X_test)\n",
        "\n",
        "# Extract predictions for 'category' and 'sub_category'\n",
        "y_pred_category_nb = y_pred_nb[:, 0]\n",
        "y_pred_sub_category_nb = y_pred_nb[:, 1]\n",
        "\n",
        "# Evaluate for 'category'\n",
        "print(\"Naive Bayes Model - Category\")\n",
        "print(\"Accuracy:\", accuracy_score(y_test[:, 0], y_pred_category_nb))\n",
        "print(\"Precision:\", precision_score(y_test[:, 0], y_pred_category_nb, average='weighted'))\n",
        "print(\"Recall:\", recall_score(y_test[:, 0], y_pred_category_nb, average='weighted'))\n",
        "print(\"F1 Score:\", f1_score(y_test[:, 0], y_pred_category_nb, average='weighted'))\n",
        "print(\"\\nCategory Classification Report:\\n\", classification_report(y_test[:, 0], y_pred_category_nb))\n",
        "\n",
        "# Evaluate for 'sub-category'\n",
        "print(\"\\nNaive Bayes Model - Sub-category\")\n",
        "print(\"Accuracy:\", accuracy_score(y_test[:, 1], y_pred_sub_category_nb))\n",
        "print(\"Precision:\", precision_score(y_test[:, 1], y_pred_sub_category_nb, average='weighted'))\n",
        "print(\"Recall:\", recall_score(y_test[:, 1], y_pred_sub_category_nb, average='weighted'))\n",
        "print(\"F1 Score:\", f1_score(y_test[:, 1], y_pred_sub_category_nb, average='weighted'))\n",
        "print(\"\\nSub-category Classification Report:\\n\", classification_report(y_test[:, 1], y_pred_sub_category_nb))\n"
      ],
      "metadata": {
        "colab": {
          "base_uri": "https://localhost:8080/"
        },
        "id": "tGf3i_t8r2hN",
        "outputId": "2caf03dc-05e2-4f99-b3e8-7642fe1e74c6"
      },
      "execution_count": null,
      "outputs": [
        {
          "output_type": "stream",
          "name": "stdout",
          "text": [
            "Naive Bayes Model - Category\n",
            "Accuracy: 0.7368791828108489\n"
          ]
        },
        {
          "output_type": "stream",
          "name": "stderr",
          "text": [
            "/usr/local/lib/python3.10/dist-packages/sklearn/metrics/_classification.py:1531: UndefinedMetricWarning: Precision is ill-defined and being set to 0.0 in labels with no predicted samples. Use `zero_division` parameter to control this behavior.\n",
            "  _warn_prf(average, modifier, f\"{metric.capitalize()} is\", len(result))\n"
          ]
        },
        {
          "output_type": "stream",
          "name": "stdout",
          "text": [
            "Precision: 0.7027037071980846\n",
            "Recall: 0.7368791828108489\n",
            "F1 Score: 0.7103998632107116\n"
          ]
        },
        {
          "output_type": "stream",
          "name": "stderr",
          "text": [
            "/usr/local/lib/python3.10/dist-packages/sklearn/metrics/_classification.py:1531: UndefinedMetricWarning: Precision is ill-defined and being set to 0.0 in labels with no predicted samples. Use `zero_division` parameter to control this behavior.\n",
            "  _warn_prf(average, modifier, f\"{metric.capitalize()} is\", len(result))\n",
            "/usr/local/lib/python3.10/dist-packages/sklearn/metrics/_classification.py:1531: UndefinedMetricWarning: Precision is ill-defined and being set to 0.0 in labels with no predicted samples. Use `zero_division` parameter to control this behavior.\n",
            "  _warn_prf(average, modifier, f\"{metric.capitalize()} is\", len(result))\n",
            "/usr/local/lib/python3.10/dist-packages/sklearn/metrics/_classification.py:1531: UndefinedMetricWarning: Precision is ill-defined and being set to 0.0 in labels with no predicted samples. Use `zero_division` parameter to control this behavior.\n",
            "  _warn_prf(average, modifier, f\"{metric.capitalize()} is\", len(result))\n"
          ]
        },
        {
          "output_type": "stream",
          "name": "stdout",
          "text": [
            "\n",
            "Category Classification Report:\n",
            "                                                       precision    recall  f1-score   support\n",
            "\n",
            "                               Any Other Cyber Crime       0.36      0.29      0.32      3670\n",
            "Child Pornography CPChild Sexual Abuse Material CSAM       0.71      0.12      0.21       123\n",
            "                      Crime Against Women & Children       0.00      0.00      0.00         4\n",
            "                                Cryptocurrency Crime       0.77      0.14      0.24       166\n",
            "                      Cyber Attack/ Dependent Crimes       1.00      1.00      1.00      1261\n",
            "                                     Cyber Terrorism       0.00      0.00      0.00        52\n",
            "      Hacking  Damage to computercomputer system etc       0.37      0.15      0.21       592\n",
            "                            Online Cyber Trafficking       0.00      0.00      0.00        61\n",
            "                              Online Financial Fraud       0.83      0.90      0.87     18896\n",
            "                            Online Gambling  Betting       0.00      0.00      0.00       134\n",
            "               Online and Social Media Related Crime       0.49      0.65      0.56      4139\n",
            "                                          Ransomware       0.00      0.00      0.00        18\n",
            "           RapeGang Rape RGRSexually Abusive Content       1.00      0.90      0.95       912\n",
            "                               Sexually Explicit Act       0.00      0.00      0.00       535\n",
            "                           Sexually Obscene material       0.38      0.01      0.02       666\n",
            "\n",
            "                                            accuracy                           0.74     31229\n",
            "                                           macro avg       0.39      0.28      0.29     31229\n",
            "                                        weighted avg       0.70      0.74      0.71     31229\n",
            "\n",
            "\n",
            "Naive Bayes Model - Sub-category\n",
            "Accuracy: 0.49540491210093185\n"
          ]
        },
        {
          "output_type": "stream",
          "name": "stderr",
          "text": [
            "/usr/local/lib/python3.10/dist-packages/sklearn/metrics/_classification.py:1531: UndefinedMetricWarning: Precision is ill-defined and being set to 0.0 in labels with no predicted samples. Use `zero_division` parameter to control this behavior.\n",
            "  _warn_prf(average, modifier, f\"{metric.capitalize()} is\", len(result))\n"
          ]
        },
        {
          "output_type": "stream",
          "name": "stdout",
          "text": [
            "Precision: 0.49834111095378053\n",
            "Recall: 0.49540491210093185\n",
            "F1 Score: 0.4747697361653262\n"
          ]
        },
        {
          "output_type": "stream",
          "name": "stderr",
          "text": [
            "/usr/local/lib/python3.10/dist-packages/sklearn/metrics/_classification.py:1531: UndefinedMetricWarning: Precision is ill-defined and being set to 0.0 in labels with no predicted samples. Use `zero_division` parameter to control this behavior.\n",
            "  _warn_prf(average, modifier, f\"{metric.capitalize()} is\", len(result))\n",
            "/usr/local/lib/python3.10/dist-packages/sklearn/metrics/_classification.py:1531: UndefinedMetricWarning: Precision is ill-defined and being set to 0.0 in labels with no predicted samples. Use `zero_division` parameter to control this behavior.\n",
            "  _warn_prf(average, modifier, f\"{metric.capitalize()} is\", len(result))\n"
          ]
        },
        {
          "output_type": "stream",
          "name": "stdout",
          "text": [
            "\n",
            "Sub-category Classification Report:\n",
            "                                                                       precision    recall  f1-score   support\n",
            "\n",
            "                             Business Email CompromiseEmail Takeover       0.00      0.00      0.00        90\n",
            "                                           Cheating by Impersonation       0.11      0.00      0.00       719\n",
            "                                        Computer Generated CSAM/CSEM       0.00      0.00      0.00         2\n",
            "                                                Cryptocurrency Fraud       0.74      0.16      0.26       166\n",
            "                                    Cyber Blackmailing & Threatening       0.00      0.00      0.00         1\n",
            "                                   Cyber Bullying  Stalking  Sexting       0.40      0.68      0.51      1366\n",
            "                                                     Cyber Terrorism       0.00      0.00      0.00        52\n",
            "                             Damage to computer computer systems etc       0.00      0.00      0.00        39\n",
            "                                                   Data Breach/Theft       0.00      0.00      0.00       171\n",
            "                                DebitCredit Card FraudSim Swap Fraud       0.61      0.59      0.60      3556\n",
            "                                               DematDepository Fraud       0.00      0.00      0.00       222\n",
            "Denial of Service (DoS)/Distributed Denial of Service (DDOS) attacks       0.06      0.01      0.01       187\n",
            "                                                      EMail Phishing       0.00      0.00      0.00        54\n",
            "                                               EWallet Related Fraud       0.32      0.40      0.35      1338\n",
            "                                                       Email Hacking       0.00      0.00      0.00       130\n",
            "                                           FakeImpersonating Profile       0.52      0.24      0.33       763\n",
            "                                                   Fraud CallVishing       0.32      0.18      0.23      1827\n",
            "                                                  Hacking/Defacement       0.16      0.54      0.24       200\n",
            "                                                 Impersonating Email       0.00      0.00      0.00        13\n",
            "                                      Internet Banking Related Fraud       0.67      0.34      0.45      2973\n",
            "                                                  Intimidating Email       0.00      0.00      0.00        11\n",
            "                                                      Malware Attack       0.00      0.00      0.00       170\n",
            "                                            Online Gambling  Betting       0.00      0.00      0.00       134\n",
            "                                                    Online Job Fraud       0.64      0.02      0.05       294\n",
            "                                            Online Matrimonial Fraud       0.00      0.00      0.00        38\n",
            "                                                  Online Trafficking       0.00      0.00      0.00        61\n",
            "                                                               Other       0.29      0.55      0.38      3670\n",
            "                                      Profile Hacking Identity Theft       0.55      0.31      0.40       751\n",
            "                                Provocative Speech for unlawful acts       0.67      0.05      0.09       130\n",
            "                                                          Ransomware       0.00      0.00      0.00        18\n",
            "                                                   Ransomware Attack       0.14      0.13      0.13       186\n",
            "                                                       SQL Injection       0.13      0.15      0.14       167\n",
            "                                                   Sexual Harassment       0.00      0.00      0.00         1\n",
            "                            Tampering with computer source documents       0.12      0.13      0.13       194\n",
            "                                                  UPI Related Frauds       0.66      0.71      0.68     11126\n",
            "                                      Unauthorised AccessData Breach       0.26      0.19      0.22       370\n",
            "                                           Website DefacementHacking       0.00      0.00      0.00        39\n",
            "\n",
            "                                                            accuracy                           0.50     31229\n",
            "                                                           macro avg       0.20      0.14      0.14     31229\n",
            "                                                        weighted avg       0.50      0.50      0.47     31229\n",
            "\n"
          ]
        },
        {
          "output_type": "stream",
          "name": "stderr",
          "text": [
            "/usr/local/lib/python3.10/dist-packages/sklearn/metrics/_classification.py:1531: UndefinedMetricWarning: Precision is ill-defined and being set to 0.0 in labels with no predicted samples. Use `zero_division` parameter to control this behavior.\n",
            "  _warn_prf(average, modifier, f\"{metric.capitalize()} is\", len(result))\n"
          ]
        }
      ]
    },
    {
      "cell_type": "code",
      "source": [
        "import pickle\n",
        "\n",
        "# Save the model to a file\n",
        "with open('naive_bayes_model.pkl', 'wb') as file:\n",
        "    pickle.dump(nb_model, file)\n",
        "with open('naive_bayes_model.pkl', 'rb') as file:\n",
        "    nb_model = pickle.load(file)\n",
        "drive.mount('/content/drive')\n",
        "\n",
        "# Define the path to save the model in your Google Drive\n",
        "model_path = '/content/drive/My Drive/Colab Notebooks/nb_model.pkl'\n",
        "\n",
        "# Save the model to Google Drive\n",
        "with open(model_path, 'wb') as file:\n",
        "    pickle.dump(nb_model, file)"
      ],
      "metadata": {
        "colab": {
          "base_uri": "https://localhost:8080/"
        },
        "id": "jCm203BXDgEC",
        "outputId": "e9704bd1-acc9-43e9-9793-0ff6a81d1948"
      },
      "execution_count": null,
      "outputs": [
        {
          "output_type": "stream",
          "name": "stdout",
          "text": [
            "Drive already mounted at /content/drive; to attempt to forcibly remount, call drive.mount(\"/content/drive\", force_remount=True).\n"
          ]
        }
      ]
    },
    {
      "cell_type": "markdown",
      "source": [],
      "metadata": {
        "id": "P1SLvLZKMX1f"
      }
    }
  ]
}